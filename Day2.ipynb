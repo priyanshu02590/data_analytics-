{
 "cells": [
  {
   "cell_type": "code",
   "execution_count": 1,
   "id": "198e1666-960c-4fc3-8a41-52e732a37065",
   "metadata": {},
   "outputs": [
    {
     "name": "stdout",
     "output_type": "stream",
     "text": [
      "10 <class 'int'>\n",
      "10.0 <class 'float'>\n"
     ]
    }
   ],
   "source": [
    "#typeconversion\n",
    "a=10\n",
    "print(a,type(a))\n",
    "b=float(a)#explicit\n",
    "print(b,type(b))"
   ]
  },
  {
   "cell_type": "code",
   "execution_count": 2,
   "id": "e4d09949-5328-4395-ae90-e1f735713d2e",
   "metadata": {},
   "outputs": [
    {
     "name": "stdout",
     "output_type": "stream",
     "text": [
      "20.5\n"
     ]
    }
   ],
   "source": [
    "a=10\n",
    "b=10.5\n",
    "print(a+b)"
   ]
  },
  {
   "cell_type": "code",
   "execution_count": 6,
   "id": "b0b9432b-56f9-4a5e-a7a9-a5a375c62bf8",
   "metadata": {},
   "outputs": [
    {
     "name": "stdin",
     "output_type": "stream",
     "text": [
      "enter the name of product:  milk\n",
      "enter the price:  56.4\n",
      "enter the quantity:  3\n"
     ]
    },
    {
     "name": "stdout",
     "output_type": "stream",
     "text": [
      "your product is : milk\n",
      "your bill is: 169.2\n"
     ]
    }
   ],
   "source": [
    "n=input(\"enter the name of product: \")\n",
    "p=float(input(\"enter the price: \"))\n",
    "q=int(input(\"enter the quantity: \"))\n",
    "bill=p*q\n",
    "print(\"your product is :\",n)\n",
    "print(\"your bill is:\",bill)"
   ]
  },
  {
   "cell_type": "code",
   "execution_count": 7,
   "id": "0629f69a-9f16-43d3-becb-c6805a26d5df",
   "metadata": {},
   "outputs": [
    {
     "name": "stdin",
     "output_type": "stream",
     "text": [
      "enter any number 7\n"
     ]
    },
    {
     "name": "stdout",
     "output_type": "stream",
     "text": [
      "number is positive\n"
     ]
    }
   ],
   "source": [
    "num=float(input(\"enter any number\"))\n",
    "if(num>0):\n",
    "    print(\"number is positive\")\n",
    "else:\n",
    "    print(\"number is negative\")"
   ]
  },
  {
   "cell_type": "code",
   "execution_count": 8,
   "id": "bcf12c63-1fc8-439b-abc5-9729e6f689bc",
   "metadata": {},
   "outputs": [
    {
     "name": "stdin",
     "output_type": "stream",
     "text": [
      "enter the age: 21\n"
     ]
    },
    {
     "name": "stdout",
     "output_type": "stream",
     "text": [
      "you are eligible to vote\n"
     ]
    }
   ],
   "source": [
    "age=int(input(\"enter the age:\"))\n",
    "if(age>=18):\n",
    "    print(\"you are eligible to vote\")\n",
    "else:\n",
    "    print(\"you are not eligible now\")"
   ]
  },
  {
   "cell_type": "code",
   "execution_count": 9,
   "id": "caabbef0-6a47-47f6-9472-fb4276518d42",
   "metadata": {},
   "outputs": [
    {
     "name": "stdin",
     "output_type": "stream",
     "text": [
      "enter a number: 5\n"
     ]
    },
    {
     "name": "stdout",
     "output_type": "stream",
     "text": [
      "number is odd\n"
     ]
    }
   ],
   "source": [
    "num=int(input(\"enter a number:\"))\n",
    "if(num%2==0):\n",
    "    print(\"number is even\")\n",
    "else:\n",
    "    print(\"number is odd\")"
   ]
  },
  {
   "cell_type": "code",
   "execution_count": 10,
   "id": "1fd51834-66c5-4b2c-8262-b14ec1fabd13",
   "metadata": {},
   "outputs": [
    {
     "name": "stdin",
     "output_type": "stream",
     "text": [
      "enter a string hello\n"
     ]
    },
    {
     "name": "stdout",
     "output_type": "stream",
     "text": [
      "your string doesn't contain more than 5 characters\n"
     ]
    }
   ],
   "source": []
  },
  {
   "cell_type": "code",
   "execution_count": 11,
   "id": "f7859186-2a5e-451e-b82c-0b7ad54d1c9b",
   "metadata": {},
   "outputs": [
    {
     "name": "stdin",
     "output_type": "stream",
     "text": [
      "enter your marks 67\n"
     ]
    },
    {
     "name": "stdout",
     "output_type": "stream",
     "text": [
      "you are pass .. congratulations\n"
     ]
    }
   ],
   "source": [
    "marks=int(input(\"enter your marks\"))\n",
    "if(marks>=40):\n",
    "    print(\"you are pass .. congratulations\")\n",
    "else:\n",
    "    print(\"you are fail\")"
   ]
  },
  {
   "cell_type": "code",
   "execution_count": 17,
   "id": "530bfbd6-0d24-46e5-a4a0-98f9450d836f",
   "metadata": {},
   "outputs": [
    {
     "name": "stdin",
     "output_type": "stream",
     "text": [
      "enter any number -9\n"
     ]
    },
    {
     "name": "stdout",
     "output_type": "stream",
     "text": [
      "number is negative\n"
     ]
    }
   ],
   "source": [
    "num=float(input(\"enter any number\"))\n",
    "if(num>0):\n",
    "    print(\"number is positive\")\n",
    "elif(num==0):\n",
    "    print(\"number is zero\")\n",
    "else:\n",
    "    print(\"number is negative\")"
   ]
  },
  {
   "cell_type": "code",
   "execution_count": 20,
   "id": "9245fdaf-4458-426a-a051-5c645b363d80",
   "metadata": {},
   "outputs": [
    {
     "name": "stdin",
     "output_type": "stream",
     "text": [
      "enter the age 17\n"
     ]
    },
    {
     "name": "stdout",
     "output_type": "stream",
     "text": [
      "teen\n"
     ]
    }
   ],
   "source": [
    "age=int(input(\"enter the age\"))\n",
    "if(age < 13):\n",
    "    print(\"child\")\n",
    "elif(age < 18):\n",
    "    print(\"teen\")\n",
    "else:\n",
    "    print(\"adult\")"
   ]
  },
  {
   "cell_type": "code",
   "execution_count": 28,
   "id": "ea25dc1f-408f-4f75-845a-7736088e597a",
   "metadata": {},
   "outputs": [
    {
     "name": "stdin",
     "output_type": "stream",
     "text": [
      "enter a number 18\n"
     ]
    },
    {
     "name": "stdout",
     "output_type": "stream",
     "text": [
      "even\n",
      "greater than 10 also\n"
     ]
    }
   ],
   "source": [
    "num=int(input(\"enter a number\"))\n",
    "if(num%2==0):\n",
    "        print(\"even\")\n",
    "        if(num>10):\n",
    "            print(\"greater than 10 also\")"
   ]
  },
  {
   "cell_type": "code",
   "execution_count": 27,
   "id": "0e2f303b-8032-4b24-9c1e-88022d0396c7",
   "metadata": {},
   "outputs": [
    {
     "name": "stdin",
     "output_type": "stream",
     "text": [
      "enter your grades 78\n"
     ]
    },
    {
     "name": "stdout",
     "output_type": "stream",
     "text": [
      "B\n"
     ]
    }
   ],
   "source": [
    "grade=int(input(\"enter your grades\"))\n",
    "if(grade>90):\n",
    "    print(\"A\")\n",
    "elif(grade>75):\n",
    "    print(\"B\")\n",
    "elif(grade>60):\n",
    "    print(\"C\")\n",
    "else:\n",
    "    print(\"fail\")"
   ]
  },
  {
   "cell_type": "code",
   "execution_count": 31,
   "id": "6483ded2-b390-4c58-b200-8611ec3bc129",
   "metadata": {},
   "outputs": [
    {
     "name": "stdin",
     "output_type": "stream",
     "text": [
      "Enter number:  7\n",
      "Enter number:  8\n",
      "Enter number:  9\n"
     ]
    },
    {
     "name": "stdout",
     "output_type": "stream",
     "text": [
      "c is greatest 9\n"
     ]
    }
   ],
   "source": [
    "a = int(input(\"Enter number: \"))\n",
    "b = int(input(\"Enter number: \"))\n",
    "c = int(input(\"Enter number: \"))\n",
    "if (a > b):\n",
    "    if (a > c):\n",
    "        print(\"a is greatest\", a)\n",
    "    else:\n",
    "        print(\"c is greatest\", c)\n",
    "else:\n",
    "    if (b > c):\n",
    "        print(\"b is greatest\", b)\n",
    "    else:\n",
    "        print(\"c is greatest\", c)"
   ]
  },
  {
   "cell_type": "code",
   "execution_count": 3,
   "id": "b10dc8ad-97d0-4b53-bb62-d4675e1da239",
   "metadata": {},
   "outputs": [
    {
     "name": "stdin",
     "output_type": "stream",
     "text": [
      "enter a number 7\n"
     ]
    },
    {
     "name": "stdout",
     "output_type": "stream",
     "text": [
      "7\n",
      "14\n",
      "28\n",
      "56\n"
     ]
    }
   ],
   "source": [
    "num=int(input(\"enter a number\"))\n",
    "i=1\n",
    "while(i<=10):\n",
    "    print(i*num)\n",
    "    i +=i"
   ]
  },
  {
   "cell_type": "code",
   "execution_count": 1,
   "id": "d3a9cb82-2784-4a64-b6dd-d6a816525dff",
   "metadata": {},
   "outputs": [
    {
     "name": "stdin",
     "output_type": "stream",
     "text": [
      "enter month name: january\n"
     ]
    },
    {
     "name": "stdout",
     "output_type": "stream",
     "text": [
      "winter season\n"
     ]
    }
   ],
   "source": [
    "month=input(\"enter month name:\")\n",
    "if month in['december','january','februrary']:\n",
    "    print(\"winter season\")\n",
    "elif month in['march','april','may']:\n",
    "    print(\"summer season\")\n",
    "elif month in['june','july','august']:\n",
    "    print(\"rainy season\")\n",
    "else:\n",
    "    print(\"autumn season\")"
   ]
  },
  {
   "cell_type": "code",
   "execution_count": null,
   "id": "656b0126-d77d-4237-92ce-acdfa3b964dd",
   "metadata": {},
   "outputs": [],
   "source": []
  }
 ],
 "metadata": {
  "kernelspec": {
   "display_name": "anaconda-2024.02-py310",
   "language": "python",
   "name": "conda-env-anaconda-2024.02-py310-py"
  },
  "language_info": {
   "codemirror_mode": {
    "name": "ipython",
    "version": 3
   },
   "file_extension": ".py",
   "mimetype": "text/x-python",
   "name": "python",
   "nbconvert_exporter": "python",
   "pygments_lexer": "ipython3",
   "version": "3.10.14"
  }
 },
 "nbformat": 4,
 "nbformat_minor": 5
}
