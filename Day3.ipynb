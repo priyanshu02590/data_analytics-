{
 "cells": [
  {
   "cell_type": "code",
   "execution_count": 1,
   "id": "216110b0-8338-4a52-94ef-abde2179bc80",
   "metadata": {},
   "outputs": [
    {
     "name": "stdin",
     "output_type": "stream",
     "text": [
      "Type 'q' to quit: q\n"
     ]
    },
    {
     "name": "stdout",
     "output_type": "stream",
     "text": [
      "Exited loop\n"
     ]
    }
   ],
   "source": [
    "while True:\n",
    "    user_input= input(\"Type 'q' to quit:\")\n",
    "    if user_input=='q':\n",
    "       print(\"Exited loop\")\n",
    "       break\n",
    "    else:\n",
    "        print(\"you typed:\",user_input)"
   ]
  },
  {
   "cell_type": "code",
   "execution_count": 2,
   "id": "2c16a11e-9db3-48c0-8b36-79d18f9e9359",
   "metadata": {},
   "outputs": [
    {
     "name": "stdin",
     "output_type": "stream",
     "text": [
      "Type your password 7845\n"
     ]
    },
    {
     "name": "stdout",
     "output_type": "stream",
     "text": [
      "wrong password! Try again! {2}\n"
     ]
    },
    {
     "name": "stdin",
     "output_type": "stream",
     "text": [
      "Type your password 5787\n"
     ]
    },
    {
     "name": "stdout",
     "output_type": "stream",
     "text": [
      "wrong password! Try again! {1}\n"
     ]
    },
    {
     "name": "stdin",
     "output_type": "stream",
     "text": [
      "Type your password 3456\n"
     ]
    },
    {
     "name": "stdout",
     "output_type": "stream",
     "text": [
      "wrong password! Try again! {0}\n"
     ]
    }
   ],
   "source": [
    "password=\"7895\"\n",
    "attempts=3\n",
    "\n",
    "while attempts >0:\n",
    "    user_input= input(\"Type your password\")\n",
    "    if user_input==password:\n",
    "       print(\"Access granted\")\n",
    "       break\n",
    "    else:\n",
    "        attempts-=1\n",
    "        print(f\"wrong password! Try again!\",{attempts})"
   ]
  },
  {
   "cell_type": "code",
   "execution_count": 3,
   "id": "8db9cf94-724f-4eb7-918d-d6fa723c92dc",
   "metadata": {},
   "outputs": [
    {
     "name": "stdout",
     "output_type": "stream",
     "text": [
      "7\n",
      "14\n",
      "21\n",
      "28\n",
      "35\n",
      "42\n",
      "49\n",
      "56\n",
      "63\n",
      "70\n",
      "77\n",
      "84\n",
      "91\n",
      "98\n"
     ]
    }
   ],
   "source": [
    "i = 1\n",
    "while i <= 100:\n",
    "    if i % 7 == 0:\n",
    "        print(i)\n",
    "    i += 1"
   ]
  },
  {
   "cell_type": "code",
   "execution_count": null,
   "id": "fee15822-6b18-4cc6-bded-44c62fffe254",
   "metadata": {},
   "outputs": [],
   "source": []
  }
 ],
 "metadata": {
  "kernelspec": {
   "display_name": "anaconda-2024.02-py310",
   "language": "python",
   "name": "conda-env-anaconda-2024.02-py310-py"
  },
  "language_info": {
   "codemirror_mode": {
    "name": "ipython",
    "version": 3
   },
   "file_extension": ".py",
   "mimetype": "text/x-python",
   "name": "python",
   "nbconvert_exporter": "python",
   "pygments_lexer": "ipython3",
   "version": "3.10.14"
  }
 },
 "nbformat": 4,
 "nbformat_minor": 5
}
