{
  "nbformat": 4,
  "nbformat_minor": 0,
  "metadata": {
    "colab": {
      "provenance": []
    },
    "kernelspec": {
      "name": "python3",
      "display_name": "Python 3"
    },
    "language_info": {
      "name": "python"
    }
  },
  "cells": [
    {
      "cell_type": "code",
      "source": [
        "l = []\n",
        "for i in range(10):\n",
        "    num = int(input(\"Enter number: \"))\n",
        "    l.append(num)\n",
        "l.remove(max(l))\n",
        "print(\"Second largest:\", max(l))\n"
      ],
      "metadata": {
        "colab": {
          "base_uri": "https://localhost:8080/"
        },
        "id": "qFUEws36zinU",
        "outputId": "2c1f7f67-18d4-4b88-a408-0b22303ff843"
      },
      "execution_count": 2,
      "outputs": [
        {
          "output_type": "stream",
          "name": "stdout",
          "text": [
            "Enter number: 1\n",
            "Enter number: 4\n",
            "Enter number: 5\n",
            "Enter number: 6\n",
            "Enter number: 7\n",
            "Enter number: 7\n",
            "Enter number: 5\n",
            "Enter number: 4\n",
            "Enter number: 3\n",
            "Enter number: 7\n",
            "Second largest: 7\n"
          ]
        }
      ]
    },
    {
      "cell_type": "code",
      "source": [
        "l = list(map(int, input(\"Enter numbers: \").split()))\n",
        "for num in l[:]:\n",
        "    if num % 2 == 0:\n",
        "        l.remove(num)\n",
        "print(\"Updated list:\", l)\n"
      ],
      "metadata": {
        "colab": {
          "base_uri": "https://localhost:8080/"
        },
        "id": "0yIzdxeTznSL",
        "outputId": "d163f8c1-62fd-495c-e459-a9d6f711481c"
      },
      "execution_count": 3,
      "outputs": [
        {
          "output_type": "stream",
          "name": "stdout",
          "text": [
            "Enter numbers: 23\n",
            "Updated list: [23]\n"
          ]
        }
      ]
    },
    {
      "cell_type": "code",
      "source": [
        "students = [\"Aman\", \"Rita\", \"Neha\", \"Rahul\", \"Suman\"]\n",
        "name = input(\"Enter name to remove: \")\n",
        "if name in students:\n",
        "    students.remove(name)\n",
        "print(\"Updated list:\", students)\n"
      ],
      "metadata": {
        "colab": {
          "base_uri": "https://localhost:8080/"
        },
        "id": "rvJFTX7UzrVB",
        "outputId": "263f38de-0f16-400c-d287-183df1021c8d"
      },
      "execution_count": 4,
      "outputs": [
        {
          "output_type": "stream",
          "name": "stdout",
          "text": [
            "Enter name to remove: Rita\n",
            "Updated list: ['Aman', 'Neha', 'Rahul', 'Suman']\n"
          ]
        }
      ]
    },
    {
      "cell_type": "code",
      "source": [
        "nums = [10, 20, 30, 40, 50]\n",
        "x = int(input(\"Enter a number: \"))\n",
        "if x in nums:\n",
        "    print(\"Index:\", nums.index(x))\n",
        "    nums.remove(x)\n",
        "print(\"Updated list:\", nums)\n"
      ],
      "metadata": {
        "colab": {
          "base_uri": "https://localhost:8080/"
        },
        "id": "hWYmiCAqzzPV",
        "outputId": "a62ff6e2-161e-4d6f-ab03-e15b63efdd53"
      },
      "execution_count": 5,
      "outputs": [
        {
          "output_type": "stream",
          "name": "stdout",
          "text": [
            "Enter a number: 56\n",
            "Updated list: [10, 20, 30, 40, 50]\n"
          ]
        }
      ]
    },
    {
      "cell_type": "code",
      "source": [
        "words = []\n",
        "for i in range(5):\n",
        "    word = input(\"Enter string: \")\n",
        "    words.append(word)\n",
        "words.sort()\n",
        "print(\"Sorted list:\", words)\n"
      ],
      "metadata": {
        "colab": {
          "base_uri": "https://localhost:8080/"
        },
        "id": "XTjrsoDLz17U",
        "outputId": "f3947a97-d9d1-4432-ae78-5565b8afc576"
      },
      "execution_count": 6,
      "outputs": [
        {
          "output_type": "stream",
          "name": "stdout",
          "text": [
            "Enter string: hima\n",
            "Enter string: ansh\n",
            "Enter string: kill\n",
            "Enter string: frog\n",
            "Enter string: thid\n",
            "Sorted list: ['ansh', 'frog', 'hima', 'kill', 'thid']\n"
          ]
        }
      ]
    },
    {
      "cell_type": "code",
      "source": [
        "words = input(\"Enter words: \").split()\n",
        "count = words.count(\"python\")\n",
        "print(\"Count of 'python':\", count)\n"
      ],
      "metadata": {
        "colab": {
          "base_uri": "https://localhost:8080/"
        },
        "id": "LCiGXYBmz5EP",
        "outputId": "3393a7d3-9478-4267-b0ed-14d915ce1e6a"
      },
      "execution_count": 7,
      "outputs": [
        {
          "output_type": "stream",
          "name": "stdout",
          "text": [
            "Enter words: jalwa\n",
            "Count of 'python': 0\n"
          ]
        }
      ]
    },
    {
      "cell_type": "code",
      "source": [
        "original = [1, 2, 3, 4, 5]\n",
        "copied = original.copy()\n",
        "copied.append(6)\n",
        "print(\"Original list:\", original)\n",
        "print(\"Copied list:\", copied)\n"
      ],
      "metadata": {
        "colab": {
          "base_uri": "https://localhost:8080/"
        },
        "id": "Qa6Fa1R7z8B2",
        "outputId": "b83489df-074d-4a81-d98b-1cbe31805f5f"
      },
      "execution_count": 8,
      "outputs": [
        {
          "output_type": "stream",
          "name": "stdout",
          "text": [
            "Original list: [1, 2, 3, 4, 5]\n",
            "Copied list: [1, 2, 3, 4, 5, 6]\n"
          ]
        }
      ]
    },
    {
      "cell_type": "code",
      "source": [
        "l = []\n",
        "for i in range(7):\n",
        "    num = int(input(\"Enter number: \"))\n",
        "    l.append(num)\n",
        "x = int(input(\"Enter number to insert: \"))\n",
        "mid = len(l) // 2\n",
        "l.insert(mid, x)\n",
        "print(\"Updated list:\", l)\n"
      ],
      "metadata": {
        "colab": {
          "base_uri": "https://localhost:8080/"
        },
        "id": "1jhNZj4az-dc",
        "outputId": "7fbc6ed8-8765-4c74-9e5c-119b6c6f1b71"
      },
      "execution_count": 9,
      "outputs": [
        {
          "output_type": "stream",
          "name": "stdout",
          "text": [
            "Enter number: 667\n",
            "Enter number: 77\n",
            "Enter number: 88\n",
            "Enter number: 55\n",
            "Enter number: 34\n",
            "Enter number: 2\n",
            "Enter number: 67\n",
            "Enter number to insert: 78\n",
            "Updated list: [667, 77, 88, 78, 55, 34, 2, 67]\n"
          ]
        }
      ]
    },
    {
      "cell_type": "code",
      "source": [
        "l = [10, 20, 30, 40, 50]\n",
        "while l:\n",
        "    print(\"Popped:\", l.pop())\n"
      ],
      "metadata": {
        "colab": {
          "base_uri": "https://localhost:8080/"
        },
        "id": "8KwxMTTz0BZ6",
        "outputId": "017e6463-00f1-45f6-f0f3-110d79eca265"
      },
      "execution_count": 10,
      "outputs": [
        {
          "output_type": "stream",
          "name": "stdout",
          "text": [
            "Popped: 50\n",
            "Popped: 40\n",
            "Popped: 30\n",
            "Popped: 20\n",
            "Popped: 10\n"
          ]
        }
      ]
    },
    {
      "cell_type": "code",
      "source": [
        "l = list(map(int, input(\"Enter numbers: \").split()))\n",
        "unique = []\n",
        "for num in l:\n",
        "    if l.count(num) == 1:\n",
        "        unique.append(num)\n",
        "print(\"Unique elements:\", unique)\n"
      ],
      "metadata": {
        "colab": {
          "base_uri": "https://localhost:8080/"
        },
        "id": "fNuBTKZU0Gwe",
        "outputId": "e1a0e870-3443-44dc-e2f7-8bf7679012cd"
      },
      "execution_count": 11,
      "outputs": [
        {
          "output_type": "stream",
          "name": "stdout",
          "text": [
            "Enter numbers: 677\n",
            "Unique elements: [677]\n"
          ]
        }
      ]
    }
  ]
}