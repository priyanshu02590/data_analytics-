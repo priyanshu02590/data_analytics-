{
 "cells": [
  {
   "cell_type": "code",
   "execution_count": 2,
   "id": "42dce56b-d3f0-43b9-a726-58598b57e939",
   "metadata": {},
   "outputs": [
    {
     "name": "stdout",
     "output_type": "stream",
     "text": [
      "30\n"
     ]
    }
   ],
   "source": [
    "a=10\n",
    "b=20\n",
    "def add(a,b):\n",
    "    print(a+b)\n",
    "\n",
    "add(a,b)"
   ]
  },
  {
   "cell_type": "code",
   "execution_count": 6,
   "id": "16bc5a6a-e6b1-49b2-b4f9-3de468f29c6a",
   "metadata": {},
   "outputs": [
    {
     "name": "stdout",
     "output_type": "stream",
     "text": [
      "200.0\n"
     ]
    }
   ],
   "source": [
    "p=1000\n",
    "r=2\n",
    "t=10\n",
    "def si(p,r,t):\n",
    "    print((p*r*t)/100)\n",
    "    \n",
    "si(p,r,t)"
   ]
  },
  {
   "cell_type": "code",
   "execution_count": 13,
   "id": "e25bcc50-f687-41bd-8eb7-e283dc5385a3",
   "metadata": {},
   "outputs": [
    {
     "name": "stdout",
     "output_type": "stream",
     "text": [
      "1275\n"
     ]
    }
   ],
   "source": [
    "def sum(a,b):\n",
    "    sum=0\n",
    "    for i in range(a,b):\n",
    "        sum+=i\n",
    "    print(sum)\n",
    "\n",
    "sum(1,51)"
   ]
  },
  {
   "cell_type": "code",
   "execution_count": 27,
   "id": "5c00d7f2-448d-4097-99bd-c8bb5ace02d0",
   "metadata": {},
   "outputs": [
    {
     "name": "stdout",
     "output_type": "stream",
     "text": [
      "2X1 = 2\n",
      "2X2 = 4\n",
      "2X3 = 6\n",
      "2X4 = 8\n",
      "2X5 = 10\n",
      "2X6 = 12\n",
      "2X7 = 14\n",
      "2X8 = 16\n",
      "2X9 = 18\n",
      "2X10 = 20\n"
     ]
    }
   ],
   "source": [
    "def table(a=2):\n",
    "    for i in range(1,11):\n",
    "        print(f\"{a}X{i} = {a*i}\")\n",
    "\n",
    "table(2)"
   ]
  },
  {
   "cell_type": "code",
   "execution_count": 31,
   "id": "872af61f-5e51-4e16-a10c-693795d830f4",
   "metadata": {},
   "outputs": [
    {
     "name": "stdout",
     "output_type": "stream",
     "text": [
      "value of sum is 625\n",
      "625\n"
     ]
    }
   ],
   "source": [
    "def even(a,b):\n",
    "    sum=0\n",
    "    for i in range(a,b):\n",
    "        if i%2!=0:\n",
    "            sum+=i\n",
    "    print(f\"value of sum is {sum}\")   \n",
    "    print(sum)\n",
    "even(1,51)"
   ]
  },
  {
   "cell_type": "code",
   "execution_count": 33,
   "id": "f0f78a05-f5d0-424f-976f-4f5630c25138",
   "metadata": {},
   "outputs": [
    {
     "name": "stdout",
     "output_type": "stream",
     "text": [
      "value of sum is 625\n",
      "625\n"
     ]
    }
   ],
   "source": [
    "def even(a,b):\n",
    "    sum=0\n",
    "    for i in range(a,b):\n",
    "        if i%2!=0:\n",
    "            sum+=i\n",
    "    print(f\"value of sum is {sum}\")   \n",
    "    print(sum)\n",
    "even(1,51)"
   ]
  },
  {
   "cell_type": "code",
   "execution_count": 32,
   "id": "8b6c2144-d09d-4fa8-8323-ebec360334d4",
   "metadata": {},
   "outputs": [
    {
     "data": {
      "text/plain": [
       "5"
      ]
     },
     "execution_count": 32,
     "metadata": {},
     "output_type": "execute_result"
    }
   ],
   "source": [
    "add=lambda a,b:a+b\n",
    "add(2,3)"
   ]
  },
  {
   "cell_type": "code",
   "execution_count": 35,
   "id": "9e265aae-9d1a-41dd-b714-974b08f2f5f7",
   "metadata": {},
   "outputs": [
    {
     "name": "stdin",
     "output_type": "stream",
     "text": [
      "enter numerator; 40\n",
      "enter denominator: 5\n"
     ]
    },
    {
     "name": "stdout",
     "output_type": "stream",
     "text": [
      "result is: 8.0\n",
      "program ended. thank you!\n"
     ]
    }
   ],
   "source": [
    "try:\n",
    "    num1=int(input(\"enter numerator;\"))\n",
    "    num2=int(input(\"enter denominator:\"))\n",
    "    result=num1/num2\n",
    "\n",
    "except ZeroDivisionError:\n",
    "    print(\"error: cannont divide by zero:\")\n",
    "\n",
    "except ValueError:\n",
    "    print(\"error : please enter valid integer only!\")\n",
    "\n",
    "else:\n",
    "    print(\"result is:\", result)\n",
    "\n",
    "finally:\n",
    "    print(\"program ended. thank you!\")"
   ]
  },
  {
   "cell_type": "code",
   "execution_count": null,
   "id": "0288c27a-15e8-42b1-b0d0-9285b48f80f4",
   "metadata": {},
   "outputs": [],
   "source": [
    "def reverse_string(s):\n",
    "    reversed_str = \"\"\n",
    "    for char in s:\n",
    "        reversed_str = char + reversed_str\n",
    "    return reversed_str\n",
    "\n",
    "user_input = input(\"Enter a string: \")\n",
    "print(\"Reversed string:\", reverse_string(user_input))\n"
   ]
  },
  {
   "cell_type": "code",
   "execution_count": null,
   "id": "2bd7399b-e14e-43d8-a381-935da93b56ea",
   "metadata": {},
   "outputs": [],
   "source": [
    "def square(num):\n",
    "    print(int(input(num))\n",
    "    return num ** 2\n",
    "   \n",
    "print(square(num)) "
   ]
  },
  {
   "cell_type": "code",
   "execution_count": null,
   "id": "36b10efb-0acc-4b11-a469-d3c2b44f6166",
   "metadata": {},
   "outputs": [],
   "source": []
  },
  {
   "cell_type": "code",
   "execution_count": null,
   "id": "592b9506-003e-4123-b2b3-c2186564e18e",
   "metadata": {},
   "outputs": [],
   "source": []
  },
  {
   "cell_type": "code",
   "execution_count": null,
   "id": "341fdc1f-e463-4a56-9778-39bfa6d984eb",
   "metadata": {},
   "outputs": [],
   "source": []
  }
 ],
 "metadata": {
  "kernelspec": {
   "display_name": "anaconda-ai-2024.04-py310",
   "language": "python",
   "name": "conda-env-anaconda-ai-2024.04-py310-py"
  },
  "language_info": {
   "codemirror_mode": {
    "name": "ipython",
    "version": 3
   },
   "file_extension": ".py",
   "mimetype": "text/x-python",
   "name": "python",
   "nbconvert_exporter": "python",
   "pygments_lexer": "ipython3",
   "version": "3.10.13"
  }
 },
 "nbformat": 4,
 "nbformat_minor": 5
}
